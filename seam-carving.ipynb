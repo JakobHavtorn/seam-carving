{
 "cells": [
  {
   "cell_type": "code",
   "execution_count": null,
   "metadata": {},
   "outputs": [],
   "source": [
    "%matplotlib widget"
   ]
  },
  {
   "cell_type": "code",
   "execution_count": null,
   "metadata": {},
   "outputs": [],
   "source": [
    "from PIL import Image\n",
    "\n",
    "import numpy as np\n",
    "import matplotlib.pyplot as plt\n",
    "import scipy.signal\n",
    "\n",
    "from tqdm import tqdm\n",
    "from ipywidgets import interact"
   ]
  },
  {
   "cell_type": "code",
   "execution_count": 3,
   "metadata": {},
   "outputs": [],
   "source": [
    "def sobel_filter_x():\n",
    "    return np.array([[-1,0,1],[-2,0,2],[-1,0,1]])\n",
    "\n",
    "def sobel_filter_y():\n",
    "    return np.array([[1,2,1], [0,0,0], [-1,-2,-1]])\n",
    "\n",
    "def scharr_filter_combined():\n",
    "    \"\"\"https://docs.scipy.org/doc/scipy/reference/generated/scipy.signal.convolve2d.html\"\"\"\n",
    "    return np.array([[ -3-3j, 0-10j,  +3 -3j],\n",
    "                     [-10+0j, 0+ 0j, +10 +0j],\n",
    "                     [ -3+3j, 0+10j,  +3 +3j]])"
   ]
  },
  {
   "cell_type": "code",
   "execution_count": 4,
   "metadata": {},
   "outputs": [
    {
     "data": {
      "application/vnd.jupyter.widget-view+json": {
       "model_id": "81db8ae7eb974d49b6feadeb08d46fa4",
       "version_major": 2,
       "version_minor": 0
      },
      "text/plain": [
       "Canvas(toolbar=Toolbar(toolitems=[('Home', 'Reset original view', 'home', 'home'), ('Back', 'Back to previous …"
      ]
     },
     "metadata": {},
     "output_type": "display_data"
    },
    {
     "data": {
      "text/plain": [
       "<matplotlib.image.AxesImage at 0x7f9656b7ef10>"
      ]
     },
     "execution_count": 4,
     "metadata": {},
     "output_type": "execute_result"
    }
   ],
   "source": [
    "fig, axes = plt.subplots(1, 2)\n",
    "axes[0].imshow(sobel_filter_x(), cmap='gray')\n",
    "axes[1].imshow(sobel_filter_y(), cmap='gray')"
   ]
  },
  {
   "cell_type": "code",
   "execution_count": 5,
   "metadata": {},
   "outputs": [],
   "source": [
    "def load_image(image_file):\n",
    "    image = Image.open(image_file)\n",
    "    image_array = np.array(image.getdata()).reshape(image.height, image.width, -1)\n",
    "    return image_array"
   ]
  },
  {
   "cell_type": "code",
   "execution_count": 6,
   "metadata": {},
   "outputs": [],
   "source": [
    "image = load_image('persistence-of-memory-small.jpg')"
   ]
  },
  {
   "cell_type": "code",
   "execution_count": 7,
   "metadata": {},
   "outputs": [
    {
     "data": {
      "application/vnd.jupyter.widget-view+json": {
       "model_id": "6da608ec7eff4aa49fdfe0fd53d59262",
       "version_major": 2,
       "version_minor": 0
      },
      "text/plain": [
       "Canvas(toolbar=Toolbar(toolitems=[('Home', 'Reset original view', 'home', 'home'), ('Back', 'Back to previous …"
      ]
     },
     "metadata": {},
     "output_type": "display_data"
    },
    {
     "data": {
      "text/plain": [
       "<matplotlib.image.AxesImage at 0x7f965c0d1e20>"
      ]
     },
     "execution_count": 7,
     "metadata": {},
     "output_type": "execute_result"
    }
   ],
   "source": [
    "fig, ax = plt.subplots(1, 1)\n",
    "ax.imshow(image)"
   ]
  },
  {
   "cell_type": "code",
   "execution_count": 8,
   "metadata": {},
   "outputs": [],
   "source": [
    "def brightness(image):\n",
    "    return image.sum(axis=-1) / 3\n",
    "\n",
    "def brightness_perceived(image):\n",
    "    return np.sqrt(0.299*(image[...,0]**2) + 0.587*(image[..., 1]**2) + 0.114*(image[..., 2]**2))"
   ]
  },
  {
   "cell_type": "code",
   "execution_count": 9,
   "metadata": {},
   "outputs": [
    {
     "data": {
      "application/vnd.jupyter.widget-view+json": {
       "model_id": "b0a611334e7845cfa153d95d996dc995",
       "version_major": 2,
       "version_minor": 0
      },
      "text/plain": [
       "Canvas(toolbar=Toolbar(toolitems=[('Home', 'Reset original view', 'home', 'home'), ('Back', 'Back to previous …"
      ]
     },
     "metadata": {},
     "output_type": "display_data"
    },
    {
     "data": {
      "text/plain": [
       "<matplotlib.image.AxesImage at 0x7f965c113dc0>"
      ]
     },
     "execution_count": 9,
     "metadata": {},
     "output_type": "execute_result"
    }
   ],
   "source": [
    "fig, axes = plt.subplots(1, 2)\n",
    "axes[0].imshow(brightness(image), cmap='gray')\n",
    "axes[1].imshow(brightness_perceived(image), cmap='gray')"
   ]
  },
  {
   "cell_type": "code",
   "execution_count": 10,
   "metadata": {},
   "outputs": [],
   "source": [
    "image_grey_scale = brightness(image)"
   ]
  },
  {
   "cell_type": "code",
   "execution_count": 26,
   "metadata": {},
   "outputs": [],
   "source": [
    "def compute_energies(image_grey_scale):\n",
    "    gx = scipy.signal.convolve2d(image_grey_scale, sobel_filter_x(), mode='same')\n",
    "    gy = scipy.signal.convolve2d(image_grey_scale, sobel_filter_y(), mode='same')\n",
    "    g = np.sqrt(gx**2 + gy**2)\n",
    "    return g"
   ]
  },
  {
   "cell_type": "code",
   "execution_count": 27,
   "metadata": {},
   "outputs": [],
   "source": [
    "g = compute_energies(image_grey_scale)"
   ]
  },
  {
   "cell_type": "code",
   "execution_count": 28,
   "metadata": {},
   "outputs": [
    {
     "data": {
      "application/vnd.jupyter.widget-view+json": {
       "model_id": "addb5ed021d64506a09dbf2988882038",
       "version_major": 2,
       "version_minor": 0
      },
      "text/plain": [
       "Canvas(toolbar=Toolbar(toolitems=[('Home', 'Reset original view', 'home', 'home'), ('Back', 'Back to previous …"
      ]
     },
     "metadata": {},
     "output_type": "display_data"
    },
    {
     "data": {
      "text/plain": [
       "<matplotlib.image.AxesImage at 0x7f954a14baf0>"
      ]
     },
     "execution_count": 28,
     "metadata": {},
     "output_type": "execute_result"
    }
   ],
   "source": [
    "fig, ax = plt.subplots(1, 1)\n",
    "ax.imshow(g, cmap='gray')"
   ]
  },
  {
   "cell_type": "code",
   "execution_count": 13,
   "metadata": {},
   "outputs": [],
   "source": [
    "def find_path_naive(gradient):\n",
    "    pass"
   ]
  },
  {
   "cell_type": "code",
   "execution_count": 78,
   "metadata": {},
   "outputs": [],
   "source": [
    "def find_path_greedy(energies):\n",
    "    rows, cols = energies.shape[0], energies.shape[1]\n",
    "    col = np.argmin(energies[0])\n",
    "    path = [col]\n",
    "    for row in range(1, rows):\n",
    "        col_relative = np.argmin(energies[row, max(0, col-1):min(col+2, cols)])\n",
    "        col = min(cols, max(0, col_relative - 1 + col))\n",
    "        path.append(col)\n",
    "    return np.array(path)"
   ]
  },
  {
   "cell_type": "code",
   "execution_count": 79,
   "metadata": {},
   "outputs": [],
   "source": [
    "def compute_accumulated_energies(energies):\n",
    "    accumulated_energies = np.zeros(energies.shape)\n",
    "    accumulated_energies[-1, ...] = energies[-1, ...]\n",
    "    rows, cols = energies.shape[0], energies.shape[1]\n",
    "    rows_reversed = reversed(range(1, rows))\n",
    "    for row in rows_reversed:\n",
    "        for col in range(cols):\n",
    "            accumulated_energies[row - 1, col] = accumulated_energies[row, max(0, col-1):min(col+2, cols)].min()\n",
    "        accumulated_energies[row - 1] += energies[row - 1]\n",
    "    return accumulated_energies\n",
    "\n",
    "def find_path_dynamic(energies=None, accumulated_energies=None):\n",
    "    \"\"\"Find global least-energy seam by pre-computing accumulated \"energies\" of image gradient from top to bottom\"\"\" \n",
    "    if accumulated_energies is None:\n",
    "        accumulated_energies = compute_accumulated_energies(energies)\n",
    "    path = find_path_greedy(accumulated_energies)\n",
    "    return path"
   ]
  },
  {
   "cell_type": "code",
   "execution_count": 80,
   "metadata": {},
   "outputs": [],
   "source": [
    "path_greedy = find_path_greedy(g)"
   ]
  },
  {
   "cell_type": "code",
   "execution_count": 177,
   "metadata": {},
   "outputs": [],
   "source": [
    "acc_energies = compute_accumulated_energies(g)\n",
    "path_dynamic = find_path_dynamic(None, acc_energies)"
   ]
  },
  {
   "cell_type": "code",
   "execution_count": 180,
   "metadata": {},
   "outputs": [],
   "source": [
    "def highlight_pixels(image, indices):\n",
    "    rows = np.array(range(image.shape[0]))\n",
    "    n_cols = image.shape[1]\n",
    "\n",
    "    if image.ndim == 3:\n",
    "        replace = (255, 0, 255)\n",
    "    else:\n",
    "        replace = 0\n",
    "\n",
    "    image[rows, indices, ...] = replace\n",
    "    right_neighbour = np.clip(indices+1, a_min=None, a_max=n_cols)\n",
    "    image[rows, right_neighbour, ...] = replace\n",
    "    left_neighbour = np.clip(indices-1, a_min=0, a_max=None)\n",
    "    image[rows, left_neighbour, ...] = replace\n",
    "    return image\n",
    "\n",
    "def visualize_path(ax, image, path, imshow_obj=None):\n",
    "    image_to_show = np.array(image)\n",
    "    image_to_show = highlight_pixels(image_to_show, path)\n",
    "    if imshow_obj:\n",
    "        imshow_obj.set_data(image_to_show)\n",
    "    else:\n",
    "        ax.imshow(image_to_show)"
   ]
  },
  {
   "cell_type": "code",
   "execution_count": 181,
   "metadata": {},
   "outputs": [
    {
     "data": {
      "application/vnd.jupyter.widget-view+json": {
       "model_id": "7d0b8d6ce1844a0fbd0b2882f7352896",
       "version_major": 2,
       "version_minor": 0
      },
      "text/plain": [
       "Canvas(toolbar=Toolbar(toolitems=[('Home', 'Reset original view', 'home', 'home'), ('Back', 'Back to previous …"
      ]
     },
     "metadata": {},
     "output_type": "display_data"
    },
    {
     "name": "stderr",
     "output_type": "stream",
     "text": [
      "Clipping input data to the valid range for imshow with RGB data ([0..1] for floats or [0..255] for integers).\n"
     ]
    }
   ],
   "source": [
    "fig, axes = plt.subplots(2, 2)\n",
    "visualize_path(axes[0][0], image, path_greedy)\n",
    "visualize_path(axes[0][1], image, path_dynamic)\n",
    "visualize_path(axes[1][0], acc_energies, path_dynamic)\n",
    "\n",
    "normalized_accumulated_energies = accumulated_energies / accumulated_energies.max()  * 255\n",
    "mixed = image + normalized_accumulated_energies[:, :, np.newaxis]\n",
    "mixed /= mixed.max()\n",
    "visualize_path(axes[1][1], mixed, path_dynamic)"
   ]
  },
  {
   "cell_type": "code",
   "execution_count": 182,
   "metadata": {},
   "outputs": [],
   "source": [
    "def construct_cropped_images(image, n_cols, reaccumulate_energies_every=10):\n",
    "    images = []\n",
    "    paths = []\n",
    "    accumulated_energies = []\n",
    "\n",
    "    rows = range(image.shape[0])\n",
    "    \n",
    "    _image = np.array(image)\n",
    "\n",
    "    for i in tqdm(range(n_cols)):\n",
    "        if i % reaccumulate_energies_every == 0:\n",
    "            grey_scale = brightness(_image)\n",
    "            g = compute_energies(grey_scale)\n",
    "            e = compute_accumulated_energies(g)\n",
    "        else:\n",
    "            e = e[~bool_map[..., 0]].reshape(e.shape[0], e.shape[1] - 1)\n",
    "\n",
    "        path = find_path_dynamic(None, e)\n",
    "        \n",
    "        bool_map = np.zeros(_image.shape, dtype=np.bool)\n",
    "        bool_map[rows, path] = True\n",
    "\n",
    "        _image = _image[~bool_map].reshape(_image.shape[0], _image.shape[1] - 1, -1)\n",
    "\n",
    "        images.append(_image)\n",
    "        paths.append(path)\n",
    "        accumulated_energies.append(e)\n",
    "    return images, paths, accumulated_energies"
   ]
  },
  {
   "cell_type": "code",
   "execution_count": 183,
   "metadata": {
    "scrolled": true
   },
   "outputs": [
    {
     "name": "stderr",
     "output_type": "stream",
     "text": [
      "100%|██████████| 250/250 [00:10<00:00, 24.21it/s]\n"
     ]
    }
   ],
   "source": [
    "images, paths, accumulated_energies = construct_cropped_images(image, 250, reaccumulate_energies_every=10)"
   ]
  },
  {
   "cell_type": "code",
   "execution_count": 184,
   "metadata": {},
   "outputs": [
    {
     "data": {
      "application/vnd.jupyter.widget-view+json": {
       "model_id": "87e361a34f9f4607adf50bafcc83e347",
       "version_major": 2,
       "version_minor": 0
      },
      "text/plain": [
       "Canvas(toolbar=Toolbar(toolitems=[('Home', 'Reset original view', 'home', 'home'), ('Back', 'Back to previous …"
      ]
     },
     "metadata": {},
     "output_type": "display_data"
    },
    {
     "data": {
      "application/vnd.jupyter.widget-view+json": {
       "model_id": "dbb5898ba6a148feb8722b7658c6ca8f",
       "version_major": 2,
       "version_minor": 0
      },
      "text/plain": [
       "interactive(children=(IntSlider(value=0, description='index', max=249), Output()), _dom_classes=('widget-inter…"
      ]
     },
     "metadata": {},
     "output_type": "display_data"
    }
   ],
   "source": [
    "fig, ax = plt.subplots(1, 1)\n",
    "imshow_obj = ax.imshow(images[0])\n",
    "\n",
    "def update(index=0):\n",
    "    visualize_path(None, images[index], paths[index], imshow_obj=imshow_obj)\n",
    "\n",
    "interact(update, index=(0, len(images) - 1));"
   ]
  },
  {
   "cell_type": "code",
   "execution_count": 185,
   "metadata": {},
   "outputs": [
    {
     "data": {
      "application/vnd.jupyter.widget-view+json": {
       "model_id": "21ff388f220d49d080aaa1b5dfbfd0a3",
       "version_major": 2,
       "version_minor": 0
      },
      "text/plain": [
       "Canvas(toolbar=Toolbar(toolitems=[('Home', 'Reset original view', 'home', 'home'), ('Back', 'Back to previous …"
      ]
     },
     "metadata": {},
     "output_type": "display_data"
    },
    {
     "data": {
      "application/vnd.jupyter.widget-view+json": {
       "model_id": "52a14f13102440389ececeba8dcc9b61",
       "version_major": 2,
       "version_minor": 0
      },
      "text/plain": [
       "interactive(children=(IntSlider(value=0, description='index', max=249), Output()), _dom_classes=('widget-inter…"
      ]
     },
     "metadata": {},
     "output_type": "display_data"
    }
   ],
   "source": [
    "fig, ax = plt.subplots(1, 2)\n",
    "imshow_obj1 = ax[0].imshow(images[0])\n",
    "imshow_obj2 = ax[1].imshow(accumulated_energies[0])\n",
    "\n",
    "def update(index=0):\n",
    "    visualize_path(None, images[index], paths[index], imshow_obj=imshow_obj1)\n",
    "    visualize_path(None, accumulated_energies[index], paths[index], imshow_obj=imshow_obj2)\n",
    "\n",
    "interact(update, index=(0, len(images) - 1));"
   ]
  },
  {
   "cell_type": "code",
   "execution_count": null,
   "metadata": {},
   "outputs": [],
   "source": []
  },
  {
   "cell_type": "code",
   "execution_count": null,
   "metadata": {},
   "outputs": [],
   "source": []
  },
  {
   "cell_type": "code",
   "execution_count": null,
   "metadata": {},
   "outputs": [],
   "source": []
  },
  {
   "cell_type": "code",
   "execution_count": null,
   "metadata": {},
   "outputs": [],
   "source": []
  },
  {
   "cell_type": "code",
   "execution_count": null,
   "metadata": {},
   "outputs": [],
   "source": []
  },
  {
   "cell_type": "code",
   "execution_count": null,
   "metadata": {},
   "outputs": [],
   "source": []
  },
  {
   "cell_type": "code",
   "execution_count": null,
   "metadata": {},
   "outputs": [],
   "source": []
  },
  {
   "cell_type": "code",
   "execution_count": null,
   "metadata": {},
   "outputs": [],
   "source": []
  }
 ],
 "metadata": {
  "kernelspec": {
   "display_name": "seam-carving",
   "language": "python",
   "name": "seam-carving"
  },
  "language_info": {
   "codemirror_mode": {
    "name": "ipython",
    "version": 3
   },
   "file_extension": ".py",
   "mimetype": "text/x-python",
   "name": "python",
   "nbconvert_exporter": "python",
   "pygments_lexer": "ipython3",
   "version": "3.8.5"
  }
 },
 "nbformat": 4,
 "nbformat_minor": 4
}
